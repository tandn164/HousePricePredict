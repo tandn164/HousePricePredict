{
 "cells": [
  {
   "cell_type": "code",
   "execution_count": 1,
   "metadata": {},
   "outputs": [],
   "source": [
    "# This Python 3 environment comes with many helpful analytics libraries installed\n",
    "# It is defined by the kaggle/python Docker image: https://github.com/kaggle/docker-python\n",
    "# For example, here's several helpful packages to load\n",
    "\n",
    "import numpy as np # linear algebra\n",
    "import pandas as pd # data processing, CSV file I/O (e.g. pd.read_csv)\n",
    "import matplotlib.pyplot as plt\n",
    "import seaborn as sns\n",
    "from sklearn.impute import SimpleImputer\n",
    "from sklearn.model_selection import train_test_split\n",
    "from sklearn.ensemble import GradientBoostingRegressor\n",
    "from xgboost import XGBRegressor\n",
    "from sklearn.ensemble import RandomForestRegressor\n",
    "\n",
    "\n"
   ]
  },
  {
   "cell_type": "markdown",
   "metadata": {},
   "source": [
    "# 1. Load Data"
   ]
  },
  {
   "cell_type": "code",
   "execution_count": 2,
   "metadata": {},
   "outputs": [],
   "source": [
    "train_data=pd.read_csv('./kaggle/train.csv')\n",
    "test_data=pd.read_csv('./kaggle/test.csv')\n",
    "\n"
   ]
  },
  {
   "cell_type": "code",
   "execution_count": 3,
   "metadata": {},
   "outputs": [],
   "source": [
    "data_all_features = pd.concat((train_data.iloc[:, 0:-1], test_data.iloc[:, 0:]))\n",
    "\n"
   ]
  },
  {
   "cell_type": "markdown",
   "metadata": {},
   "source": [
    "### Transform categorical data to numeric data using one-hot encoded"
   ]
  },
  {
   "cell_type": "code",
   "execution_count": 4,
   "metadata": {},
   "outputs": [],
   "source": [
    "cat_cols=[cat for cat in data_all_features.columns if data_all_features[cat].dtype=='object']\n",
    "num_cols=[cat for cat in data_all_features.columns if \n",
    "           data_all_features[cat].dtype=='int64' or \n",
    "           data_all_features[cat].dtype=='float64']\n"
   ]
  },
  {
   "cell_type": "code",
   "execution_count": 5,
   "metadata": {
    "scrolled": true
   },
   "outputs": [
    {
     "data": {
      "text/html": [
       "<div>\n",
       "<style scoped>\n",
       "    .dataframe tbody tr th:only-of-type {\n",
       "        vertical-align: middle;\n",
       "    }\n",
       "\n",
       "    .dataframe tbody tr th {\n",
       "        vertical-align: top;\n",
       "    }\n",
       "\n",
       "    .dataframe thead th {\n",
       "        text-align: right;\n",
       "    }\n",
       "</style>\n",
       "<table border=\"1\" class=\"dataframe\">\n",
       "  <thead>\n",
       "    <tr style=\"text-align: right;\">\n",
       "      <th></th>\n",
       "      <th>Id</th>\n",
       "      <th>MSSubClass</th>\n",
       "      <th>LotFrontage</th>\n",
       "      <th>LotArea</th>\n",
       "      <th>OverallQual</th>\n",
       "      <th>OverallCond</th>\n",
       "      <th>YearBuilt</th>\n",
       "      <th>YearRemodAdd</th>\n",
       "      <th>MasVnrArea</th>\n",
       "      <th>BsmtFinSF1</th>\n",
       "      <th>...</th>\n",
       "      <th>SaleType_ConLI</th>\n",
       "      <th>SaleType_ConLw</th>\n",
       "      <th>SaleType_New</th>\n",
       "      <th>SaleType_Oth</th>\n",
       "      <th>SaleType_WD</th>\n",
       "      <th>SaleCondition_AdjLand</th>\n",
       "      <th>SaleCondition_Alloca</th>\n",
       "      <th>SaleCondition_Family</th>\n",
       "      <th>SaleCondition_Normal</th>\n",
       "      <th>SaleCondition_Partial</th>\n",
       "    </tr>\n",
       "  </thead>\n",
       "  <tbody>\n",
       "    <tr>\n",
       "      <th>0</th>\n",
       "      <td>1</td>\n",
       "      <td>60</td>\n",
       "      <td>65.0</td>\n",
       "      <td>8450</td>\n",
       "      <td>7</td>\n",
       "      <td>5</td>\n",
       "      <td>2003</td>\n",
       "      <td>2003</td>\n",
       "      <td>196.0</td>\n",
       "      <td>706.0</td>\n",
       "      <td>...</td>\n",
       "      <td>0</td>\n",
       "      <td>0</td>\n",
       "      <td>0</td>\n",
       "      <td>0</td>\n",
       "      <td>1</td>\n",
       "      <td>0</td>\n",
       "      <td>0</td>\n",
       "      <td>0</td>\n",
       "      <td>1</td>\n",
       "      <td>0</td>\n",
       "    </tr>\n",
       "    <tr>\n",
       "      <th>1</th>\n",
       "      <td>2</td>\n",
       "      <td>20</td>\n",
       "      <td>80.0</td>\n",
       "      <td>9600</td>\n",
       "      <td>6</td>\n",
       "      <td>8</td>\n",
       "      <td>1976</td>\n",
       "      <td>1976</td>\n",
       "      <td>0.0</td>\n",
       "      <td>978.0</td>\n",
       "      <td>...</td>\n",
       "      <td>0</td>\n",
       "      <td>0</td>\n",
       "      <td>0</td>\n",
       "      <td>0</td>\n",
       "      <td>1</td>\n",
       "      <td>0</td>\n",
       "      <td>0</td>\n",
       "      <td>0</td>\n",
       "      <td>1</td>\n",
       "      <td>0</td>\n",
       "    </tr>\n",
       "    <tr>\n",
       "      <th>2</th>\n",
       "      <td>3</td>\n",
       "      <td>60</td>\n",
       "      <td>68.0</td>\n",
       "      <td>11250</td>\n",
       "      <td>7</td>\n",
       "      <td>5</td>\n",
       "      <td>2001</td>\n",
       "      <td>2002</td>\n",
       "      <td>162.0</td>\n",
       "      <td>486.0</td>\n",
       "      <td>...</td>\n",
       "      <td>0</td>\n",
       "      <td>0</td>\n",
       "      <td>0</td>\n",
       "      <td>0</td>\n",
       "      <td>1</td>\n",
       "      <td>0</td>\n",
       "      <td>0</td>\n",
       "      <td>0</td>\n",
       "      <td>1</td>\n",
       "      <td>0</td>\n",
       "    </tr>\n",
       "    <tr>\n",
       "      <th>3</th>\n",
       "      <td>4</td>\n",
       "      <td>70</td>\n",
       "      <td>60.0</td>\n",
       "      <td>9550</td>\n",
       "      <td>7</td>\n",
       "      <td>5</td>\n",
       "      <td>1915</td>\n",
       "      <td>1970</td>\n",
       "      <td>0.0</td>\n",
       "      <td>216.0</td>\n",
       "      <td>...</td>\n",
       "      <td>0</td>\n",
       "      <td>0</td>\n",
       "      <td>0</td>\n",
       "      <td>0</td>\n",
       "      <td>1</td>\n",
       "      <td>0</td>\n",
       "      <td>0</td>\n",
       "      <td>0</td>\n",
       "      <td>0</td>\n",
       "      <td>0</td>\n",
       "    </tr>\n",
       "    <tr>\n",
       "      <th>4</th>\n",
       "      <td>5</td>\n",
       "      <td>60</td>\n",
       "      <td>84.0</td>\n",
       "      <td>14260</td>\n",
       "      <td>8</td>\n",
       "      <td>5</td>\n",
       "      <td>2000</td>\n",
       "      <td>2000</td>\n",
       "      <td>350.0</td>\n",
       "      <td>655.0</td>\n",
       "      <td>...</td>\n",
       "      <td>0</td>\n",
       "      <td>0</td>\n",
       "      <td>0</td>\n",
       "      <td>0</td>\n",
       "      <td>1</td>\n",
       "      <td>0</td>\n",
       "      <td>0</td>\n",
       "      <td>0</td>\n",
       "      <td>1</td>\n",
       "      <td>0</td>\n",
       "    </tr>\n",
       "    <tr>\n",
       "      <th>...</th>\n",
       "      <td>...</td>\n",
       "      <td>...</td>\n",
       "      <td>...</td>\n",
       "      <td>...</td>\n",
       "      <td>...</td>\n",
       "      <td>...</td>\n",
       "      <td>...</td>\n",
       "      <td>...</td>\n",
       "      <td>...</td>\n",
       "      <td>...</td>\n",
       "      <td>...</td>\n",
       "      <td>...</td>\n",
       "      <td>...</td>\n",
       "      <td>...</td>\n",
       "      <td>...</td>\n",
       "      <td>...</td>\n",
       "      <td>...</td>\n",
       "      <td>...</td>\n",
       "      <td>...</td>\n",
       "      <td>...</td>\n",
       "      <td>...</td>\n",
       "    </tr>\n",
       "    <tr>\n",
       "      <th>1454</th>\n",
       "      <td>2915</td>\n",
       "      <td>160</td>\n",
       "      <td>21.0</td>\n",
       "      <td>1936</td>\n",
       "      <td>4</td>\n",
       "      <td>7</td>\n",
       "      <td>1970</td>\n",
       "      <td>1970</td>\n",
       "      <td>0.0</td>\n",
       "      <td>0.0</td>\n",
       "      <td>...</td>\n",
       "      <td>0</td>\n",
       "      <td>0</td>\n",
       "      <td>0</td>\n",
       "      <td>0</td>\n",
       "      <td>1</td>\n",
       "      <td>0</td>\n",
       "      <td>0</td>\n",
       "      <td>0</td>\n",
       "      <td>1</td>\n",
       "      <td>0</td>\n",
       "    </tr>\n",
       "    <tr>\n",
       "      <th>1455</th>\n",
       "      <td>2916</td>\n",
       "      <td>160</td>\n",
       "      <td>21.0</td>\n",
       "      <td>1894</td>\n",
       "      <td>4</td>\n",
       "      <td>5</td>\n",
       "      <td>1970</td>\n",
       "      <td>1970</td>\n",
       "      <td>0.0</td>\n",
       "      <td>252.0</td>\n",
       "      <td>...</td>\n",
       "      <td>0</td>\n",
       "      <td>0</td>\n",
       "      <td>0</td>\n",
       "      <td>0</td>\n",
       "      <td>1</td>\n",
       "      <td>0</td>\n",
       "      <td>0</td>\n",
       "      <td>0</td>\n",
       "      <td>0</td>\n",
       "      <td>0</td>\n",
       "    </tr>\n",
       "    <tr>\n",
       "      <th>1456</th>\n",
       "      <td>2917</td>\n",
       "      <td>20</td>\n",
       "      <td>160.0</td>\n",
       "      <td>20000</td>\n",
       "      <td>5</td>\n",
       "      <td>7</td>\n",
       "      <td>1960</td>\n",
       "      <td>1996</td>\n",
       "      <td>0.0</td>\n",
       "      <td>1224.0</td>\n",
       "      <td>...</td>\n",
       "      <td>0</td>\n",
       "      <td>0</td>\n",
       "      <td>0</td>\n",
       "      <td>0</td>\n",
       "      <td>1</td>\n",
       "      <td>0</td>\n",
       "      <td>0</td>\n",
       "      <td>0</td>\n",
       "      <td>0</td>\n",
       "      <td>0</td>\n",
       "    </tr>\n",
       "    <tr>\n",
       "      <th>1457</th>\n",
       "      <td>2918</td>\n",
       "      <td>85</td>\n",
       "      <td>62.0</td>\n",
       "      <td>10441</td>\n",
       "      <td>5</td>\n",
       "      <td>5</td>\n",
       "      <td>1992</td>\n",
       "      <td>1992</td>\n",
       "      <td>0.0</td>\n",
       "      <td>337.0</td>\n",
       "      <td>...</td>\n",
       "      <td>0</td>\n",
       "      <td>0</td>\n",
       "      <td>0</td>\n",
       "      <td>0</td>\n",
       "      <td>1</td>\n",
       "      <td>0</td>\n",
       "      <td>0</td>\n",
       "      <td>0</td>\n",
       "      <td>1</td>\n",
       "      <td>0</td>\n",
       "    </tr>\n",
       "    <tr>\n",
       "      <th>1458</th>\n",
       "      <td>2919</td>\n",
       "      <td>60</td>\n",
       "      <td>74.0</td>\n",
       "      <td>9627</td>\n",
       "      <td>7</td>\n",
       "      <td>5</td>\n",
       "      <td>1993</td>\n",
       "      <td>1994</td>\n",
       "      <td>94.0</td>\n",
       "      <td>758.0</td>\n",
       "      <td>...</td>\n",
       "      <td>0</td>\n",
       "      <td>0</td>\n",
       "      <td>0</td>\n",
       "      <td>0</td>\n",
       "      <td>1</td>\n",
       "      <td>0</td>\n",
       "      <td>0</td>\n",
       "      <td>0</td>\n",
       "      <td>1</td>\n",
       "      <td>0</td>\n",
       "    </tr>\n",
       "  </tbody>\n",
       "</table>\n",
       "<p>2919 rows × 246 columns</p>\n",
       "</div>"
      ],
      "text/plain": [
       "        Id  MSSubClass  LotFrontage  LotArea  OverallQual  OverallCond  \\\n",
       "0        1          60         65.0     8450            7            5   \n",
       "1        2          20         80.0     9600            6            8   \n",
       "2        3          60         68.0    11250            7            5   \n",
       "3        4          70         60.0     9550            7            5   \n",
       "4        5          60         84.0    14260            8            5   \n",
       "...    ...         ...          ...      ...          ...          ...   \n",
       "1454  2915         160         21.0     1936            4            7   \n",
       "1455  2916         160         21.0     1894            4            5   \n",
       "1456  2917          20        160.0    20000            5            7   \n",
       "1457  2918          85         62.0    10441            5            5   \n",
       "1458  2919          60         74.0     9627            7            5   \n",
       "\n",
       "      YearBuilt  YearRemodAdd  MasVnrArea  BsmtFinSF1  ...  SaleType_ConLI  \\\n",
       "0          2003          2003       196.0       706.0  ...               0   \n",
       "1          1976          1976         0.0       978.0  ...               0   \n",
       "2          2001          2002       162.0       486.0  ...               0   \n",
       "3          1915          1970         0.0       216.0  ...               0   \n",
       "4          2000          2000       350.0       655.0  ...               0   \n",
       "...         ...           ...         ...         ...  ...             ...   \n",
       "1454       1970          1970         0.0         0.0  ...               0   \n",
       "1455       1970          1970         0.0       252.0  ...               0   \n",
       "1456       1960          1996         0.0      1224.0  ...               0   \n",
       "1457       1992          1992         0.0       337.0  ...               0   \n",
       "1458       1993          1994        94.0       758.0  ...               0   \n",
       "\n",
       "      SaleType_ConLw  SaleType_New  SaleType_Oth  SaleType_WD  \\\n",
       "0                  0             0             0            1   \n",
       "1                  0             0             0            1   \n",
       "2                  0             0             0            1   \n",
       "3                  0             0             0            1   \n",
       "4                  0             0             0            1   \n",
       "...              ...           ...           ...          ...   \n",
       "1454               0             0             0            1   \n",
       "1455               0             0             0            1   \n",
       "1456               0             0             0            1   \n",
       "1457               0             0             0            1   \n",
       "1458               0             0             0            1   \n",
       "\n",
       "      SaleCondition_AdjLand  SaleCondition_Alloca  SaleCondition_Family  \\\n",
       "0                         0                     0                     0   \n",
       "1                         0                     0                     0   \n",
       "2                         0                     0                     0   \n",
       "3                         0                     0                     0   \n",
       "4                         0                     0                     0   \n",
       "...                     ...                   ...                   ...   \n",
       "1454                      0                     0                     0   \n",
       "1455                      0                     0                     0   \n",
       "1456                      0                     0                     0   \n",
       "1457                      0                     0                     0   \n",
       "1458                      0                     0                     0   \n",
       "\n",
       "      SaleCondition_Normal  SaleCondition_Partial  \n",
       "0                        1                      0  \n",
       "1                        1                      0  \n",
       "2                        1                      0  \n",
       "3                        0                      0  \n",
       "4                        1                      0  \n",
       "...                    ...                    ...  \n",
       "1454                     1                      0  \n",
       "1455                     0                      0  \n",
       "1456                     0                      0  \n",
       "1457                     1                      0  \n",
       "1458                     1                      0  \n",
       "\n",
       "[2919 rows x 246 columns]"
      ]
     },
     "execution_count": 5,
     "metadata": {},
     "output_type": "execute_result"
    }
   ],
   "source": [
    "data_all_features_1 = pd.get_dummies(data_all_features,columns=cat_cols,drop_first=True)\n",
    "data_all_features_1\n",
    "\n"
   ]
  },
  {
   "cell_type": "markdown",
   "metadata": {},
   "source": [
    "### Fit missing data to dataset"
   ]
  },
  {
   "cell_type": "code",
   "execution_count": 6,
   "metadata": {},
   "outputs": [],
   "source": [
    "si=SimpleImputer()\n",
    "data_all_features_2 = si.fit_transform(data_all_features_1)\n",
    "\n"
   ]
  },
  {
   "cell_type": "code",
   "execution_count": 7,
   "metadata": {},
   "outputs": [],
   "source": [
    "Y_orig = train_data['SalePrice'].iloc[:]\n",
    "X_orig = data_all_features_2[:1460,:]\n",
    "test_orig = data_all_features_2[1460:,:]"
   ]
  },
  {
   "cell_type": "code",
   "execution_count": 8,
   "metadata": {},
   "outputs": [
    {
     "name": "stdout",
     "output_type": "stream",
     "text": [
      "(1460, 246)\n",
      "(1460,)\n"
     ]
    }
   ],
   "source": [
    "print(X_orig.shape)\n",
    "print(Y_orig.shape)"
   ]
  },
  {
   "cell_type": "markdown",
   "metadata": {},
   "source": [
    "# 2. Feature Selection\n"
   ]
  },
  {
   "cell_type": "code",
   "execution_count": 10,
   "metadata": {},
   "outputs": [],
   "source": [
    "features = list(data_all_features_1.columns)\n",
    "\n"
   ]
  },
  {
   "cell_type": "code",
   "execution_count": 11,
   "metadata": {},
   "outputs": [
    {
     "data": {
      "text/plain": [
       "246"
      ]
     },
     "execution_count": 11,
     "metadata": {},
     "output_type": "execute_result"
    }
   ],
   "source": [
    "len(features)"
   ]
  },
  {
   "cell_type": "code",
   "execution_count": 12,
   "metadata": {},
   "outputs": [],
   "source": [
    "from sklearn.feature_selection import SelectKBest\n",
    "from sklearn.feature_selection import f_regression"
   ]
  },
  {
   "cell_type": "code",
   "execution_count": 13,
   "metadata": {},
   "outputs": [],
   "source": [
    "# feature selection\n",
    "def select_features(X_train, y_train, features):\n",
    "    # configure to select all features\n",
    "    fs = SelectKBest(score_func=f_regression, k=150)\n",
    "    \n",
    "    # learn relationship from training data\n",
    "    fs.fit(X_train, y_train)\n",
    "    \n",
    "    mask = fs.get_support() #list of booleans\n",
    "    drop_features = [] # The list of your drop features\n",
    "\n",
    "    for bool, feature in zip(mask, features):\n",
    "        if not(bool):\n",
    "            drop_features.append(feature)\n",
    "    return drop_features,fs"
   ]
  },
  {
   "cell_type": "code",
   "execution_count": 14,
   "metadata": {},
   "outputs": [],
   "source": [
    "drop_features, fs = select_features(X_orig,Y_orig,features)"
   ]
  },
  {
   "cell_type": "code",
   "execution_count": 15,
   "metadata": {},
   "outputs": [
    {
     "name": "stdout",
     "output_type": "stream",
     "text": [
      "Feature 0: 0.700676\n",
      "Feature 1: 10.431466\n",
      "Feature 2: 184.085225\n",
      "Feature 3: 109.090355\n",
      "Feature 4: 2436.770591\n",
      "Feature 5: 8.891623\n",
      "Feature 6: 548.665821\n",
      "Feature 7: 504.714855\n",
      "Feature 8: 425.293347\n",
      "Feature 9: 255.923517\n",
      "Feature 10: 0.188780\n",
      "Feature 11: 70.303948\n",
      "Feature 12: 880.341282\n",
      "Feature 13: 845.524488\n",
      "Feature 14: 165.561151\n",
      "Feature 15: 0.956600\n",
      "Feature 16: 1470.585010\n",
      "Feature 17: 79.300912\n",
      "Feature 18: 0.413789\n",
      "Feature 19: 668.430296\n",
      "Feature 20: 128.018964\n",
      "Feature 21: 42.456412\n",
      "Feature 22: 27.437234\n",
      "Feature 23: 580.762801\n",
      "Feature 24: 406.503866\n",
      "Feature 25: 415.793392\n",
      "Feature 26: 1013.705666\n",
      "Feature 27: 926.951287\n",
      "Feature 28: 171.494673\n",
      "Feature 29: 161.577391\n",
      "Feature 30: 24.509275\n",
      "Feature 31: 2.903843\n",
      "Feature 32: 18.336600\n",
      "Feature 33: 12.556221\n",
      "Feature 34: 0.654934\n",
      "Feature 35: 3.150172\n",
      "Feature 36: 1.220661\n",
      "Feature 37: 11.892832\n",
      "Feature 38: 6.268522\n",
      "Feature 39: 93.156358\n",
      "Feature 40: 131.935234\n",
      "Feature 41: 2.459290\n",
      "Feature 42: 1.115961\n",
      "Feature 43: 23.557089\n",
      "Feature 44: 1.968612\n",
      "Feature 45: 112.525263\n",
      "Feature 46: 21.306920\n",
      "Feature 47: 3.028451\n",
      "Feature 48: 1.107030\n",
      "Feature 49: 0.298804\n",
      "Feature 50: 29.925475\n",
      "Feature 51: 0.068594\n",
      "Feature 52: 0.482342\n",
      "Feature 53: 9.518838\n",
      "Feature 54: 2.698465\n",
      "Feature 55: 1.143794\n",
      "Feature 56: 0.598141\n",
      "Feature 57: 15.117522\n",
      "Feature 58: 30.719290\n",
      "Feature 59: 4.540501\n",
      "Feature 60: 7.731050\n",
      "Feature 61: 7.420433\n",
      "Feature 62: 48.792393\n",
      "Feature 63: 1.885671\n",
      "Feature 64: 40.326441\n",
      "Feature 65: 18.704211\n",
      "Feature 66: 4.894920\n",
      "Feature 67: 53.722066\n",
      "Feature 68: 2.098378\n",
      "Feature 69: 0.804444\n",
      "Feature 70: 178.693864\n",
      "Feature 71: 281.282911\n",
      "Feature 72: 55.918918\n",
      "Feature 73: 5.941244\n",
      "Feature 74: 24.438045\n",
      "Feature 75: 0.309159\n",
      "Feature 76: 29.172741\n",
      "Feature 77: 70.912654\n",
      "Feature 78: 23.610358\n",
      "Feature 79: 5.897343\n",
      "Feature 80: 20.351007\n",
      "Feature 81: 18.847291\n",
      "Feature 82: 2.578534\n",
      "Feature 83: 3.587214\n",
      "Feature 84: 3.180026\n",
      "Feature 85: 0.050629\n",
      "Feature 86: 0.030636\n",
      "Feature 87: 0.787639\n",
      "Feature 88: 3.414236\n",
      "Feature 89: 1.373321\n",
      "Feature 90: 3.296667\n",
      "Feature 91: 3.434982\n",
      "Feature 92: 0.013060\n",
      "Feature 93: 0.307051\n",
      "Feature 94: 2.250186\n",
      "Feature 95: 13.949209\n",
      "Feature 96: 19.421788\n",
      "Feature 97: 14.351975\n",
      "Feature 98: 0.021102\n",
      "Feature 99: 11.297288\n",
      "Feature 100: 5.591817\n",
      "Feature 101: 1.947758\n",
      "Feature 102: 0.975348\n",
      "Feature 103: 91.400215\n",
      "Feature 104: 12.745072\n",
      "Feature 105: 2.180735\n",
      "Feature 106: 77.561063\n",
      "Feature 107: 1.800686\n",
      "Feature 108: 85.914776\n",
      "Feature 109: 0.000139\n",
      "Feature 110: 0.616403\n",
      "Feature 111: 16.099124\n",
      "Feature 112: 0.581713\n",
      "Feature 113: 0.000134\n",
      "Feature 114: 0.305727\n",
      "Feature 115: 0.035305\n",
      "Feature 116: 2.911582\n",
      "Feature 117: 43.035568\n",
      "Feature 118: 1.038312\n",
      "Feature 119: 3.841735\n",
      "Feature 120: 1.529451\n",
      "Feature 121: 0.913886\n",
      "Feature 122: 26.453028\n",
      "Feature 123: 13.319969\n",
      "Feature 124: 1.042363\n",
      "Feature 125: 41.863795\n",
      "Feature 126: 0.457915\n",
      "Feature 127: 1.911071\n",
      "Feature 128: 1.296110\n",
      "Feature 129: 149.551070\n",
      "Feature 130: 37.630072\n",
      "Feature 131: 3.849746\n",
      "Feature 132: 0.877437\n",
      "Feature 133: 3.279947\n",
      "Feature 134: 0.894314\n",
      "Feature 135: 0.913886\n",
      "Feature 136: 24.356485\n",
      "Feature 137: 6.745841\n",
      "Feature 138: 8.115722\n",
      "Feature 139: 39.488903\n",
      "Feature 140: 3.027253\n",
      "Feature 141: 4.097874\n",
      "Feature 142: 0.409347\n",
      "Feature 143: 2.627802\n",
      "Feature 144: 151.048008\n",
      "Feature 145: 39.195685\n",
      "Feature 146: 2.375247\n",
      "Feature 147: 59.611403\n",
      "Feature 148: 237.794552\n",
      "Feature 149: 178.757033\n",
      "Feature 150: 19.591772\n",
      "Feature 151: 375.329470\n",
      "Feature 152: 774.677019\n",
      "Feature 153: 28.269411\n",
      "Feature 154: 3.722934\n",
      "Feature 155: 1.729761\n",
      "Feature 156: 16.323230\n",
      "Feature 157: 194.741707\n",
      "Feature 158: 480.156815\n",
      "Feature 159: 21.208456\n",
      "Feature 160: 0.213590\n",
      "Feature 161: 0.010719\n",
      "Feature 162: 24.566470\n",
      "Feature 163: 85.087780\n",
      "Feature 164: 375.178052\n",
      "Feature 165: 11.594668\n",
      "Feature 166: 4.348119\n",
      "Feature 167: 15.109088\n",
      "Feature 168: 152.039676\n",
      "Feature 169: 2.763250\n",
      "Feature 170: 108.874556\n",
      "Feature 171: 26.220368\n",
      "Feature 172: 339.503144\n",
      "Feature 173: 10.504626\n",
      "Feature 174: 27.338296\n",
      "Feature 175: 10.212026\n",
      "Feature 176: 4.769563\n",
      "Feature 177: 0.000008\n",
      "Feature 178: 2.064614\n",
      "Feature 179: 2.277699\n",
      "Feature 180: 20.553014\n",
      "Feature 181: 12.590608\n",
      "Feature 182: 0.589437\n",
      "Feature 183: 12.538269\n",
      "Feature 184: 0.965904\n",
      "Feature 185: 5.027779\n",
      "Feature 186: 26.560385\n",
      "Feature 187: 26.952104\n",
      "Feature 188: 1.399064\n",
      "Feature 189: 157.990431\n",
      "Feature 190: 98.305344\n",
      "Feature 191: 23.749194\n",
      "Feature 192: 3.333413\n",
      "Feature 193: 2.059283\n",
      "Feature 194: 90.615202\n",
      "Feature 195: 36.942154\n",
      "Feature 196: 168.239343\n",
      "Feature 197: 538.358524\n",
      "Feature 198: 7.223659\n",
      "Feature 199: 6.006216\n",
      "Feature 200: 7.454096\n",
      "Feature 201: 0.376737\n",
      "Feature 202: 0.427278\n",
      "Feature 203: 20.047358\n",
      "Feature 204: 0.992800\n",
      "Feature 205: 189.725699\n",
      "Feature 206: 8.451579\n",
      "Feature 207: 39.868510\n",
      "Feature 208: 185.501258\n",
      "Feature 209: 1.263472\n",
      "Feature 210: 85.569417\n",
      "Feature 211: 7.255984\n",
      "Feature 212: 209.077715\n",
      "Feature 213: 43.280665\n",
      "Feature 214: 295.666793\n",
      "Feature 215: 26.312232\n",
      "Feature 216: 2.737521\n",
      "Feature 217: 3.110788\n",
      "Feature 218: 93.385355\n",
      "Feature 219: 25.368261\n",
      "Feature 220: 0.001409\n",
      "Feature 221: 5.864845\n",
      "Feature 222: 120.102025\n",
      "Feature 223: 11.541814\n",
      "Feature 224: 82.915376\n",
      "Feature 225: 0.379275\n",
      "Feature 226: 0.211326\n",
      "Feature 227: 14.741253\n",
      "Feature 228: 29.409146\n",
      "Feature 229: 3.826774\n",
      "Feature 230: 2.399868\n",
      "Feature 231: 7.132342\n",
      "Feature 232: 0.756500\n",
      "Feature 233: 0.559638\n",
      "Feature 234: 2.498071\n",
      "Feature 235: 2.550815\n",
      "Feature 236: 0.301179\n",
      "Feature 237: 1.101450\n",
      "Feature 238: 213.659813\n",
      "Feature 239: 1.777514\n",
      "Feature 240: 91.174423\n",
      "Feature 241: 3.755298\n",
      "Feature 242: 0.351517\n",
      "Feature 243: 3.156696\n",
      "Feature 244: 35.413089\n",
      "Feature 245: 206.281237\n"
     ]
    },
    {
     "data": {
      "image/png": "[encoded data removed]",
      "text/plain": [
       "<Figure size 432x288 with 1 Axes>"
      ]
     },
     "metadata": {
      "needs_background": "light"
     },
     "output_type": "display_data"
    }
   ],
   "source": [
    "for i in range(len(fs.scores_)):\n",
    "    print('Feature %d: %f' % (i, fs.scores_[i]))\n",
    "# plot the scores\n",
    "plt.bar([i for i in range(len(fs.scores_))], fs.scores_)\n",
    "plt.show()"
   ]
  },
  {
   "cell_type": "code",
   "execution_count": 16,
   "metadata": {},
   "outputs": [
    {
     "data": {
      "text/plain": [
       "(2919, 150)"
      ]
     },
     "execution_count": 16,
     "metadata": {},
     "output_type": "execute_result"
    }
   ],
   "source": [
    "fil_data = data_all_features_1.drop(columns=drop_features, axis=1)\n",
    "fil_data.shape\n",
    "\n"
   ]
  },
  {
   "cell_type": "markdown",
   "metadata": {},
   "source": [
    "# 3. Split data for training model"
   ]
  },
  {
   "cell_type": "code",
   "execution_count": 17,
   "metadata": {},
   "outputs": [],
   "source": [
    "si=SimpleImputer()\n",
    "fil_data = si.fit_transform(fil_data)"
   ]
  },
  {
   "cell_type": "code",
   "execution_count": 18,
   "metadata": {},
   "outputs": [],
   "source": [
    "Y = train_data['SalePrice'].iloc[:]\n",
    "X = fil_data[:1460,:]\n",
    "test = fil_data[1460:,:]"
   ]
  },
  {
   "cell_type": "code",
   "execution_count": 19,
   "metadata": {},
   "outputs": [
    {
     "name": "stdout",
     "output_type": "stream",
     "text": [
      "(1460, 150)\n",
      "(1460,)\n",
      "(1459, 150)\n"
     ]
    }
   ],
   "source": [
    "print(X.shape)\n",
    "print(Y.shape)\n",
    "print(test.shape)"
   ]
  },
  {
   "cell_type": "code",
   "execution_count": 20,
   "metadata": {},
   "outputs": [
    {
     "data": {
      "text/plain": [
       "1109    280000\n",
       "93      133900\n",
       "840     140000\n",
       "521     150000\n",
       "117     155000\n",
       "         ...  \n",
       "229     192500\n",
       "70      244000\n",
       "132     150750\n",
       "1313    333168\n",
       "109     190000\n",
       "Name: SalePrice, Length: 1095, dtype: int64"
      ]
     },
     "execution_count": 20,
     "metadata": {},
     "output_type": "execute_result"
    }
   ],
   "source": [
    "X_train, X_test, y_train, y_test = train_test_split(X, Y, test_size=0.25,random_state=50)\n",
    "y_train"
   ]
  },
  {
   "cell_type": "code",
   "execution_count": 21,
   "metadata": {},
   "outputs": [
    {
     "data": {
      "text/plain": [
       "675     148500\n",
       "1159    185000\n",
       "19      139000\n",
       "494      91300\n",
       "1287    190000\n",
       "         ...  \n",
       "1316    295493\n",
       "715     165000\n",
       "478     297000\n",
       "1059    220000\n",
       "865     148500\n",
       "Name: SalePrice, Length: 1095, dtype: int64"
      ]
     },
     "execution_count": 21,
     "metadata": {},
     "output_type": "execute_result"
    }
   ],
   "source": [
    "X_train_orig, X_test_orig, y_train_orig, y_test_orig = train_test_split(X_orig, Y_orig, test_size=0.25)\n",
    "y_train_orig"
   ]
  },
  {
   "cell_type": "code",
   "execution_count": 22,
   "metadata": {},
   "outputs": [
    {
     "name": "stdout",
     "output_type": "stream",
     "text": [
      "(1095, 150)\n",
      "(365, 150)\n"
     ]
    }
   ],
   "source": [
    "print(X_train.shape)\n",
    "print(X_test.shape)"
   ]
  },
  {
   "cell_type": "markdown",
   "metadata": {},
   "source": [
    "# 4. Fitting model"
   ]
  },
  {
   "cell_type": "code",
   "execution_count": 23,
   "metadata": {},
   "outputs": [],
   "source": [
    "def compute_mse(model,X,y):\n",
    "    predicts = model.predict(X)\n",
    "    return ((predicts-y)**2).sum()/y.shape[0]\n",
    "    "
   ]
  },
  {
   "cell_type": "markdown",
   "metadata": {},
   "source": [
    "### Tune number of tree "
   ]
  },
  {
   "cell_type": "code",
   "execution_count": 24,
   "metadata": {},
   "outputs": [
    {
     "data": {
      "text/plain": [
       "[60,\n",
       " 80,\n",
       " 100,\n",
       " 120,\n",
       " 140,\n",
       " 160,\n",
       " 180,\n",
       " 200,\n",
       " 220,\n",
       " 240,\n",
       " 260,\n",
       " 280,\n",
       " 300,\n",
       " 320,\n",
       " 340,\n",
       " 360,\n",
       " 380]"
      ]
     },
     "execution_count": 24,
     "metadata": {},
     "output_type": "execute_result"
    }
   ],
   "source": [
    "tree_nos = []\n",
    "for n in range(50,400):\n",
    "    if(n%20==0):\n",
    "        tree_nos.append(n)\n",
    "tree_nos"
   ]
  },
  {
   "cell_type": "code",
   "execution_count": 25,
   "metadata": {},
   "outputs": [],
   "source": [
    "xgboost_model_ar = []\n",
    "for tree_no in range(50,400):\n",
    "    if(tree_no%20==0):\n",
    "        model = XGBRegressor(learning_rate=0.1,\n",
    "                             max_depth=5,\n",
    "                             n_estimators=tree_no,\n",
    "                             min_child_weight=1,\n",
    "                             subsample=0.8,\n",
    "                             reg_lambda = 0.45, \n",
    "                             colsample_bytree = 0.8,\n",
    "                             reg_alpha = 0, \n",
    "                             gamma = 0,\n",
    "                             scale_pos_weight = 1,\n",
    "                             objective='reg:squarederror')\n",
    "        model.fit(X_train,y_train)\n",
    "        xgboost_model_ar.append(model)\n",
    "\n",
    "\n"
   ]
  },
  {
   "cell_type": "code",
   "execution_count": 26,
   "metadata": {},
   "outputs": [
    {
     "name": "stdout",
     "output_type": "stream",
     "text": [
      "0.916852914257038\n",
      "0.9183404400035432\n",
      "0.9192247091704497\n",
      "0.9183437630676984\n",
      "0.918629352563765\n",
      "0.9185280521916518\n",
      "0.9187346909431824\n",
      "0.918701387464781\n",
      "0.9185781737191284\n",
      "0.918721727633347\n",
      "0.9187893268765548\n",
      "0.9187267734846387\n",
      "0.9187104439210425\n",
      "0.9187459661055184\n",
      "0.9187431082448915\n",
      "0.9187732803217146\n",
      "0.9188784473532517\n"
     ]
    }
   ],
   "source": [
    "test_errors = []\n",
    "for model in xgboost_model_ar:\n",
    "    test_errors.append(compute_mse(model,X_test,y_test))\n",
    "    print(model.score(X_test,y_test))"
   ]
  },
  {
   "cell_type": "code",
   "execution_count": 27,
   "metadata": {},
   "outputs": [
    {
     "data": {
      "text/plain": [
       "[<matplotlib.lines.Line2D at 0x7fe385254f90>]"
      ]
     },
     "execution_count": 27,
     "metadata": {},
     "output_type": "execute_result"
    },
    {
     "data": {
      "image/png": "[encoded data removed]",
      "text/plain": [
       "<Figure size 432x288 with 1 Axes>"
      ]
     },
     "metadata": {
      "needs_background": "light"
     },
     "output_type": "display_data"
    }
   ],
   "source": [
    "plt.plot(tree_nos,test_errors,'r--')\n",
    "\n",
    "\n"
   ]
  },
  {
   "cell_type": "code",
   "execution_count": 28,
   "metadata": {},
   "outputs": [
    {
     "name": "stdout",
     "output_type": "stream",
     "text": [
      "0.9841004163071555\n",
      "0.9887345626952866\n",
      "0.9916449802455217\n",
      "0.9938534031895966\n",
      "0.9953734607520969\n",
      "0.9965541181418287\n",
      "0.9974110225409277\n",
      "0.9980158045445026\n",
      "0.9984747019023489\n",
      "0.9987772310434438\n",
      "0.998984608745422\n",
      "0.9991813785554711\n",
      "0.9993445981224799\n",
      "0.9994805209159919\n",
      "0.9995924705391448\n",
      "0.9996786335271378\n",
      "0.9997415054694269\n"
     ]
    }
   ],
   "source": [
    "train_errors = []\n",
    "for model in xgboost_model_ar:\n",
    "    train_errors.append(compute_mse(model,X_train,y_train))\n",
    "    print(model.score(X_train,y_train))\n",
    "    "
   ]
  },
  {
   "cell_type": "code",
   "execution_count": 29,
   "metadata": {},
   "outputs": [
    {
     "data": {
      "text/plain": [
       "[<matplotlib.lines.Line2D at 0x7fe38312a550>]"
      ]
     },
     "execution_count": 29,
     "metadata": {},
     "output_type": "execute_result"
    },
    {
     "data": {
      "image/png": "[encoded data removed]",
      "text/plain": [
       "<Figure size 432x288 with 1 Axes>"
      ]
     },
     "metadata": {
      "needs_background": "light"
     },
     "output_type": "display_data"
    }
   ],
   "source": [
    "plt.plot(tree_nos,train_errors,'g^')"
   ]
  },
  {
   "cell_type": "markdown",
   "metadata": {},
   "source": [
    "#### Select number of estimators n = 100"
   ]
  },
  {
   "cell_type": "markdown",
   "metadata": {},
   "source": [
    "### Tune tree_depth and min_child_weight"
   ]
  },
  {
   "cell_type": "code",
   "execution_count": 59,
   "metadata": {},
   "outputs": [],
   "source": [
    "tree_depths = []\n",
    "for n in range(2,10):\n",
    "    tree_depths.append(n)\n",
    "# len(tree_depths)\n"
   ]
  },
  {
   "cell_type": "code",
   "execution_count": 60,
   "metadata": {},
   "outputs": [
    {
     "data": {
      "text/plain": [
       "[2, 3, 4, 5, 6, 7, 8, 9]"
      ]
     },
     "execution_count": 60,
     "metadata": {},
     "output_type": "execute_result"
    }
   ],
   "source": [
    "min_child_weight = []\n",
    "for n in range(2,10):\n",
    "    min_child_weight.append(n)\n",
    "min_child_weight\n"
   ]
  },
  {
   "cell_type": "code",
   "execution_count": 61,
   "metadata": {},
   "outputs": [],
   "source": [
    "xgboost_model_ar = []\n",
    "for tree_d in tree_depths:\n",
    "    for min_child_w in min_child_weight:\n",
    "        model = XGBRegressor(learning_rate=0.1,\n",
    "                             max_depth=tree_d,\n",
    "                             n_estimators=100,\n",
    "                             min_child_weight=min_child_w,\n",
    "                             subsample=0.8,\n",
    "                             reg_lambda = 0.45, \n",
    "                             colsample_bytree = 0.8,\n",
    "                             reg_alpha = 0, \n",
    "                             gamma = 0,\n",
    "                             scale_pos_weight = 1,\n",
    "                             objective='reg:squarederror')\n",
    "        model.fit(X_train,y_train)\n",
    "        xgboost_model_ar.append(model)\n",
    "\n"
   ]
  },
  {
   "cell_type": "code",
   "execution_count": 62,
   "metadata": {},
   "outputs": [
    {
     "name": "stdout",
     "output_type": "stream",
     "text": [
      "[[0, 0, 0, 0, 0, 0, 0, 0], [0, 0, 0, 0, 0, 0, 0, 0], [0, 0, 0, 0, 0, 0, 0, 0], [0, 0, 0, 0, 0, 0, 0, 0], [0, 0, 0, 0, 0, 0, 0, 0], [0, 0, 0, 0, 0, 0, 0, 0], [0, 0, 0, 0, 0, 0, 0, 0], [0, 0, 0, 0, 0, 0, 0, 0]]\n",
      "Score with: tree_depth = 2, min_child_weight = 2:\n",
      "0.897715186248786\n",
      "Score with: tree_depth = 2, min_child_weight = 3:\n",
      "0.8770413723906659\n",
      "Score with: tree_depth = 2, min_child_weight = 4:\n",
      "0.886742865906047\n",
      "Score with: tree_depth = 2, min_child_weight = 5:\n",
      "0.893222910087458\n",
      "Score with: tree_depth = 2, min_child_weight = 6:\n",
      "0.8980214428219326\n",
      "Score with: tree_depth = 2, min_child_weight = 7:\n",
      "0.9006181368613403\n",
      "Score with: tree_depth = 2, min_child_weight = 8:\n",
      "0.9023110147664491\n",
      "Score with: tree_depth = 2, min_child_weight = 9:\n",
      "0.9029293421225162\n",
      "Score with: tree_depth = 3, min_child_weight = 2:\n",
      "0.9120442874559221\n",
      "Score with: tree_depth = 3, min_child_weight = 3:\n",
      "0.909246985257444\n",
      "Score with: tree_depth = 3, min_child_weight = 4:\n",
      "0.9026359391960719\n",
      "Score with: tree_depth = 3, min_child_weight = 5:\n",
      "0.8935904712154238\n",
      "Score with: tree_depth = 3, min_child_weight = 6:\n",
      "0.9070515224329843\n",
      "Score with: tree_depth = 3, min_child_weight = 7:\n",
      "0.9086566237179208\n",
      "Score with: tree_depth = 3, min_child_weight = 8:\n",
      "0.9115815442090122\n",
      "Score with: tree_depth = 3, min_child_weight = 9:\n",
      "0.909612013883393\n",
      "Score with: tree_depth = 4, min_child_weight = 2:\n",
      "0.9153957598365444\n",
      "Score with: tree_depth = 4, min_child_weight = 3:\n",
      "0.9092545511027781\n",
      "Score with: tree_depth = 4, min_child_weight = 4:\n",
      "0.9030170605875889\n",
      "Score with: tree_depth = 4, min_child_weight = 5:\n",
      "0.9030965705267039\n",
      "Score with: tree_depth = 4, min_child_weight = 6:\n",
      "0.9136683243123931\n",
      "Score with: tree_depth = 4, min_child_weight = 7:\n",
      "0.9102713789714383\n",
      "Score with: tree_depth = 4, min_child_weight = 8:\n",
      "0.9104131483742665\n",
      "Score with: tree_depth = 4, min_child_weight = 9:\n",
      "0.910776623770406\n",
      "Score with: tree_depth = 5, min_child_weight = 2:\n",
      "0.9182336171376873\n",
      "Score with: tree_depth = 5, min_child_weight = 3:\n",
      "0.9085026646497432\n",
      "Score with: tree_depth = 5, min_child_weight = 4:\n",
      "0.9060961092812991\n",
      "Score with: tree_depth = 5, min_child_weight = 5:\n",
      "0.9030977002132559\n",
      "Score with: tree_depth = 5, min_child_weight = 6:\n",
      "0.9151241410177432\n",
      "Score with: tree_depth = 5, min_child_weight = 7:\n",
      "0.9157904628373505\n",
      "Score with: tree_depth = 5, min_child_weight = 8:\n",
      "0.9201433598045481\n",
      "Score with: tree_depth = 5, min_child_weight = 9:\n",
      "0.9196154923538242\n",
      "Score with: tree_depth = 6, min_child_weight = 2:\n",
      "0.9141393516668528\n",
      "Score with: tree_depth = 6, min_child_weight = 3:\n",
      "0.9068684641503741\n",
      "Score with: tree_depth = 6, min_child_weight = 4:\n",
      "0.9105648810758734\n",
      "Score with: tree_depth = 6, min_child_weight = 5:\n",
      "0.9094433961505496\n",
      "Score with: tree_depth = 6, min_child_weight = 6:\n",
      "0.919385258624265\n",
      "Score with: tree_depth = 6, min_child_weight = 7:\n",
      "0.9222575419988016\n",
      "Score with: tree_depth = 6, min_child_weight = 8:\n",
      "0.9156395883314046\n",
      "Score with: tree_depth = 6, min_child_weight = 9:\n",
      "0.9195222116837665\n",
      "Score with: tree_depth = 7, min_child_weight = 2:\n",
      "0.9138619653559404\n",
      "Score with: tree_depth = 7, min_child_weight = 3:\n",
      "0.9117765544950333\n",
      "Score with: tree_depth = 7, min_child_weight = 4:\n",
      "0.9128341626933058\n",
      "Score with: tree_depth = 7, min_child_weight = 5:\n",
      "0.9122484386827403\n",
      "Score with: tree_depth = 7, min_child_weight = 6:\n",
      "0.912805191220355\n",
      "Score with: tree_depth = 7, min_child_weight = 7:\n",
      "0.9193059370588839\n",
      "Score with: tree_depth = 7, min_child_weight = 8:\n",
      "0.9168232669463007\n",
      "Score with: tree_depth = 7, min_child_weight = 9:\n",
      "0.9177152050873231\n",
      "Score with: tree_depth = 8, min_child_weight = 2:\n",
      "0.9133779611343038\n",
      "Score with: tree_depth = 8, min_child_weight = 3:\n",
      "0.9054910070394312\n",
      "Score with: tree_depth = 8, min_child_weight = 4:\n",
      "0.9130628198429731\n",
      "Score with: tree_depth = 8, min_child_weight = 5:\n",
      "0.9109828656182731\n",
      "Score with: tree_depth = 8, min_child_weight = 6:\n",
      "0.9195664573422557\n",
      "Score with: tree_depth = 8, min_child_weight = 7:\n",
      "0.9203063464142764\n",
      "Score with: tree_depth = 8, min_child_weight = 8:\n",
      "0.9143698821017348\n",
      "Score with: tree_depth = 8, min_child_weight = 9:\n",
      "0.9200420315478307\n",
      "Score with: tree_depth = 9, min_child_weight = 2:\n",
      "0.9167076749100626\n",
      "Score with: tree_depth = 9, min_child_weight = 3:\n",
      "0.9052888895112431\n",
      "Score with: tree_depth = 9, min_child_weight = 4:\n",
      "0.9095814347564946\n",
      "Score with: tree_depth = 9, min_child_weight = 5:\n",
      "0.9087330977738346\n",
      "Score with: tree_depth = 9, min_child_weight = 6:\n",
      "0.9157265106920661\n",
      "Score with: tree_depth = 9, min_child_weight = 7:\n",
      "0.9185180829775706\n",
      "Score with: tree_depth = 9, min_child_weight = 8:\n",
      "0.9142079560343829\n",
      "Score with: tree_depth = 9, min_child_weight = 9:\n",
      "0.9174112824879795\n",
      "Maximum value:0.9222575419988016\n",
      "Tree depth:6\n",
      "Min_child_weight:7\n"
     ]
    }
   ],
   "source": [
    "test_errors = [[0 for x in range(8)] for y in range(8)]\n",
    "print(test_errors)\n",
    "for i, tree_d in enumerate(tree_depths):\n",
    "    for j,min_child_w in enumerate(min_child_weight):\n",
    "        print('Score with: tree_depth = ' + str(tree_d)  +', min_child_weight = '+ str(min_child_w) + ':')\n",
    "        test_errors[i][j] = xgboost_model_ar[i*len(min_child_weight)+j].score(X_test,y_test)\n",
    "        print(test_errors[i][j])\n",
    "\n",
    "max_v = 0\n",
    "max_i = 0\n",
    "max_j = 0\n",
    "for i in range(8):\n",
    "    for j in range(8):\n",
    "        if max_v < test_errors[i][j]:\n",
    "            max_v = test_errors[i][j]\n",
    "            max_i = i;\n",
    "            max_j = j;\n",
    "print('Maximum value:' + str(max_v))\n",
    "print('Tree depth:' + str(tree_depths[max_i]))\n",
    "print('Min_child_weight:' + str(min_child_weight[max_j]))\n",
    "\n",
    "# for model in xgboost_model_ar:\n",
    "#     test_errors.append(compute_mse(model,X_test,y_test))\n",
    "#     print(model.score(X_test,y_test))\n",
    "\n",
    "\n",
    "\n"
   ]
  },
  {
   "cell_type": "markdown",
   "metadata": {},
   "source": [
    "#### Select tree_depth = 6 min_child_weight = 7"
   ]
  },
  {
   "cell_type": "markdown",
   "metadata": {},
   "source": [
    "###  Tune sub_sample and colsample"
   ]
  },
  {
   "cell_type": "code",
   "execution_count": 63,
   "metadata": {},
   "outputs": [
    {
     "data": {
      "text/plain": [
       "[0.6, 0.7, 0.8, 0.9]"
      ]
     },
     "execution_count": 63,
     "metadata": {},
     "output_type": "execute_result"
    }
   ],
   "source": [
    "sub_samples = []\n",
    "for n in range(6,10):\n",
    "    sub_samples.append(n/10)\n",
    "sub_samples\n",
    "\n"
   ]
  },
  {
   "cell_type": "code",
   "execution_count": 64,
   "metadata": {},
   "outputs": [
    {
     "data": {
      "text/plain": [
       "[0.6, 0.7, 0.8, 0.9]"
      ]
     },
     "execution_count": 64,
     "metadata": {},
     "output_type": "execute_result"
    }
   ],
   "source": [
    "colsamples = []\n",
    "for n in range(6,10):\n",
    "    colsamples.append(n/10)\n",
    "colsamples\n",
    "\n"
   ]
  },
  {
   "cell_type": "code",
   "execution_count": 65,
   "metadata": {},
   "outputs": [],
   "source": [
    "xgboost_model_ar = []\n",
    "# for i, value in enumerate(new_list):\n",
    "for sub_sample in sub_samples:\n",
    "    for colsample in colsamples:\n",
    "        model = XGBRegressor(learning_rate=0.1,\n",
    "                             max_depth=6,\n",
    "                             n_estimators=100,\n",
    "                             min_child_weight=7,\n",
    "                             subsample=sub_sample,\n",
    "                             reg_lambda = 0.45, \n",
    "                             colsample_bytree = colsample,\n",
    "                             reg_alpha = 0, \n",
    "                             gamma = 0,\n",
    "                             scale_pos_weight = 1,\n",
    "                             objective='reg:squarederror')\n",
    "        model.fit(X_train,y_train)\n",
    "        xgboost_model_ar.append(model)\n",
    "\n",
    "    "
   ]
  },
  {
   "cell_type": "code",
   "execution_count": 66,
   "metadata": {},
   "outputs": [
    {
     "name": "stdout",
     "output_type": "stream",
     "text": [
      "[[0, 0, 0, 0], [0, 0, 0, 0], [0, 0, 0, 0], [0, 0, 0, 0]]\n",
      "Score with: sub_sample = 0.6, colsample = 0.6:\n",
      "0.9188370003476318\n",
      "Score with: sub_sample = 0.6, colsample = 0.7:\n",
      "0.9142640216302182\n",
      "Score with: sub_sample = 0.6, colsample = 0.8:\n",
      "0.920792961685437\n",
      "Score with: sub_sample = 0.6, colsample = 0.9:\n",
      "0.9156203862924138\n",
      "Score with: sub_sample = 0.7, colsample = 0.6:\n",
      "0.9212311096586527\n",
      "Score with: sub_sample = 0.7, colsample = 0.7:\n",
      "0.915085968720314\n",
      "Score with: sub_sample = 0.7, colsample = 0.8:\n",
      "0.9209830482335067\n",
      "Score with: sub_sample = 0.7, colsample = 0.9:\n",
      "0.9108050294715163\n",
      "Score with: sub_sample = 0.8, colsample = 0.6:\n",
      "0.9110984093514755\n",
      "Score with: sub_sample = 0.8, colsample = 0.7:\n",
      "0.9162249343825081\n",
      "Score with: sub_sample = 0.8, colsample = 0.8:\n",
      "0.9222575419988016\n",
      "Score with: sub_sample = 0.8, colsample = 0.9:\n",
      "0.9156194858683251\n",
      "Score with: sub_sample = 0.9, colsample = 0.6:\n",
      "0.9165080713800119\n",
      "Score with: sub_sample = 0.9, colsample = 0.7:\n",
      "0.914890701346168\n",
      "Score with: sub_sample = 0.9, colsample = 0.8:\n",
      "0.9118977743666777\n",
      "Score with: sub_sample = 0.9, colsample = 0.9:\n",
      "0.9176701506114677\n",
      "Maximum value:0.9222575419988016\n",
      "Sub_sample:0.8\n",
      "ColSample:0.8\n"
     ]
    }
   ],
   "source": [
    "test_errors = [[0 for x in range(4)] for y in range(4)]\n",
    "print(test_errors)\n",
    "for i, sub_sample in enumerate(sub_samples):\n",
    "    for j,colsample in enumerate(colsamples):\n",
    "        print('Score with: sub_sample = ' + str(sub_sample)  +', colsample = '+ str(colsample) + ':')\n",
    "        test_errors[i][j] = xgboost_model_ar[i*len(colsamples)+j].score(X_test,y_test)\n",
    "        print(test_errors[i][j])\n",
    "\n",
    "max_v = 0\n",
    "max_i = 0\n",
    "max_j = 0\n",
    "for i in range(4):\n",
    "    for j in range(4):\n",
    "        if max_v < test_errors[i][j]:\n",
    "            max_v = test_errors[i][j]\n",
    "            max_i = i\n",
    "            max_j = j\n",
    "print('Maximum value:' + str(max_v))\n",
    "print('Sub_sample:' + str(sub_samples[max_i]))\n",
    "print('ColSample:' + str(colsamples[max_j]))\n",
    "\n",
    "\n"
   ]
  },
  {
   "cell_type": "markdown",
   "metadata": {},
   "source": [
    "#### Select sub_sample = 0.8 colsample = 0.8"
   ]
  },
  {
   "cell_type": "markdown",
   "metadata": {},
   "source": [
    "### Tune regularization"
   ]
  },
  {
   "cell_type": "code",
   "execution_count": 76,
   "metadata": {},
   "outputs": [
    {
     "data": {
      "text/plain": [
       "[0, 1, 2, 3, 4, 5, 6, 7, 8, 9]"
      ]
     },
     "execution_count": 76,
     "metadata": {},
     "output_type": "execute_result"
    }
   ],
   "source": [
    "lambdas = []\n",
    "for n in range(0,10):\n",
    "    lambdas.append(n)\n",
    "lambdas \n",
    "\n",
    "\n"
   ]
  },
  {
   "cell_type": "code",
   "execution_count": 79,
   "metadata": {},
   "outputs": [
    {
     "name": "stdout",
     "output_type": "stream",
     "text": [
      "0\n",
      "1\n",
      "2\n",
      "3\n",
      "4\n",
      "5\n",
      "6\n",
      "7\n",
      "8\n",
      "9\n"
     ]
    }
   ],
   "source": [
    "xgboost_model_ar = []\n",
    "for lamda in lambdas:\n",
    "    model = XGBRegressor(learning_rate=0.1,\n",
    "                         max_depth=6,\n",
    "                         n_estimators=100,\n",
    "                         min_child_weight=7,\n",
    "                         subsample=0.8,\n",
    "                         reg_lambda = lamda, \n",
    "                         colsample_bytree = 0.8,\n",
    "                         reg_alpha = 0, \n",
    "                         gamma = 0,\n",
    "                         scale_pos_weight = 1,\n",
    "                         objective='reg:squarederror')\n",
    "    model.fit(X_train,y_train)\n",
    "    xgboost_model_ar.append(model)\n"
   ]
  },
  {
   "cell_type": "code",
   "execution_count": 80,
   "metadata": {},
   "outputs": [
    {
     "name": "stdout",
     "output_type": "stream",
     "text": [
      "0.9173651391787389\n",
      "0.9082145301148676\n",
      "0.9144367863433305\n",
      "0.9151368350298585\n",
      "0.9121130381706163\n",
      "0.9177989729019121\n",
      "0.9189302620832134\n",
      "0.9192638752333768\n",
      "0.9136410137034219\n",
      "0.9126146339064793\n"
     ]
    }
   ],
   "source": [
    "test_errors = []\n",
    "for model in xgboost_model_ar:\n",
    "    test_errors.append(compute_mse(model,X_test,y_test))\n",
    "    print(model.score(X_test,y_test))\n"
   ]
  },
  {
   "cell_type": "code",
   "execution_count": 81,
   "metadata": {},
   "outputs": [
    {
     "name": "stdout",
     "output_type": "stream",
     "text": [
      "0.9841227621867403\n",
      "0.98344413763125\n",
      "0.980296572759758\n",
      "0.9797031308856852\n",
      "0.976873916094209\n",
      "0.9756362180283495\n",
      "0.9735306091252091\n",
      "0.9715817244283002\n",
      "0.9703174525025994\n",
      "0.9699807815310593\n"
     ]
    }
   ],
   "source": [
    "train_errors = []\n",
    "for model in xgboost_model_ar:\n",
    "    train_errors.append(compute_mse(model,X_train,y_train))\n",
    "    print(model.score(X_train,y_train))"
   ]
  },
  {
   "cell_type": "code",
   "execution_count": 44,
   "metadata": {},
   "outputs": [
    {
     "data": {
      "text/plain": [
       "[<matplotlib.lines.Line2D at 0x7fe383f7ac10>]"
      ]
     },
     "execution_count": 44,
     "metadata": {},
     "output_type": "execute_result"
    },
    {
     "data": {
      "image/png": "[encoded data removed]",
      "text/plain": [
       "<Figure size 432x288 with 1 Axes>"
      ]
     },
     "metadata": {
      "needs_background": "light"
     },
     "output_type": "display_data"
    }
   ],
   "source": [
    "plt.plot(lambdas,test_errors,'r--')\n"
   ]
  },
  {
   "cell_type": "code",
   "execution_count": 82,
   "metadata": {
    "scrolled": false
   },
   "outputs": [
    {
     "data": {
      "text/plain": [
       "[<matplotlib.lines.Line2D at 0x7fe387d13450>]"
      ]
     },
     "execution_count": 82,
     "metadata": {},
     "output_type": "execute_result"
    },
    {
     "data": {
      "image/png": "[encoded data removed]",
      "text/plain": [
       "<Figure size 432x288 with 1 Axes>"
      ]
     },
     "metadata": {
      "needs_background": "light"
     },
     "output_type": "display_data"
    }
   ],
   "source": [
    "plt.plot(lambdas,train_errors,'r--')\n",
    "\n"
   ]
  },
  {
   "cell_type": "markdown",
   "metadata": {},
   "source": [
    "#### Select lambda = 0.45"
   ]
  },
  {
   "cell_type": "markdown",
   "metadata": {},
   "source": [
    "### Final model for XGBoost"
   ]
  },
  {
   "cell_type": "code",
   "execution_count": 83,
   "metadata": {},
   "outputs": [
    {
     "data": {
      "text/plain": [
       "XGBRegressor(base_score=0.5, booster='gbtree', colsample_bylevel=1,\n",
       "             colsample_bynode=1, colsample_bytree=0.8, gamma=0, gpu_id=-1,\n",
       "             importance_type='gain', interaction_constraints='',\n",
       "             learning_rate=0.1, max_delta_step=0, max_depth=6,\n",
       "             min_child_weight=7, missing=nan, monotone_constraints='()',\n",
       "             n_estimators=100, n_jobs=4, num_parallel_tree=1, random_state=0,\n",
       "             reg_alpha=0, reg_lambda=0.45, scale_pos_weight=1, subsample=0.8,\n",
       "             tree_method='exact', validate_parameters=1, verbosity=None)"
      ]
     },
     "execution_count": 83,
     "metadata": {},
     "output_type": "execute_result"
    }
   ],
   "source": [
    "model = XGBRegressor(learning_rate=0.1,\n",
    "                         max_depth=6,\n",
    "                         n_estimators=100,\n",
    "                         min_child_weight=7,\n",
    "                         subsample=0.8,\n",
    "                         reg_lambda = 0.45, \n",
    "                         colsample_bytree = 0.8,\n",
    "                         reg_alpha = 0, \n",
    "                         gamma = 0,\n",
    "                         scale_pos_weight = 1,\n",
    "                         objective='reg:squarederror')\n",
    "model.fit(X_train_orig,y_train_orig)"
   ]
  },
  {
   "cell_type": "code",
   "execution_count": 84,
   "metadata": {},
   "outputs": [
    {
     "data": {
      "text/plain": [
       "0.9853963494861018"
      ]
     },
     "execution_count": 84,
     "metadata": {},
     "output_type": "execute_result"
    }
   ],
   "source": [
    "model.score(X_train_orig,y_train_orig)"
   ]
  },
  {
   "cell_type": "code",
   "execution_count": 85,
   "metadata": {},
   "outputs": [
    {
     "data": {
      "text/plain": [
       "0.8323989798363503"
      ]
     },
     "execution_count": 85,
     "metadata": {},
     "output_type": "execute_result"
    }
   ],
   "source": [
    "model.score(X_test_orig,y_test_orig)"
   ]
  },
  {
   "cell_type": "code",
   "execution_count": 87,
   "metadata": {},
   "outputs": [
    {
     "data": {
      "text/plain": [
       "1043228985.5604496"
      ]
     },
     "execution_count": 87,
     "metadata": {},
     "output_type": "execute_result"
    }
   ],
   "source": [
    "compute_mse(model,X_test_orig,y_test_orig)"
   ]
  },
  {
   "cell_type": "code",
   "execution_count": null,
   "metadata": {},
   "outputs": [],
   "source": []
  },
  {
   "cell_type": "code",
   "execution_count": 88,
   "metadata": {},
   "outputs": [
    {
     "data": {
      "text/plain": [
       "XGBRegressor(base_score=0.5, booster='gbtree', colsample_bylevel=1,\n",
       "             colsample_bynode=1, colsample_bytree=0.8, gamma=0, gpu_id=-1,\n",
       "             importance_type='gain', interaction_constraints='',\n",
       "             learning_rate=0.1, max_delta_step=0, max_depth=6,\n",
       "             min_child_weight=7, missing=nan, monotone_constraints='()',\n",
       "             n_estimators=160, n_jobs=4, num_parallel_tree=1, random_state=0,\n",
       "             reg_alpha=0, reg_lambda=0.45, scale_pos_weight=1, subsample=0.8,\n",
       "             tree_method='exact', validate_parameters=1, verbosity=None)"
      ]
     },
     "execution_count": 88,
     "metadata": {},
     "output_type": "execute_result"
    }
   ],
   "source": [
    "model = XGBRegressor(learning_rate=0.1,\n",
    "                             max_depth=6,\n",
    "                             n_estimators=160,\n",
    "                             min_child_weight=7,\n",
    "                             subsample=0.8,\n",
    "                             reg_lambda = 0.45, \n",
    "                             colsample_bytree = 0.8,\n",
    "                             reg_alpha = 0, \n",
    "                             gamma = 0,\n",
    "                             scale_pos_weight = 1,\n",
    "                             objective='reg:squarederror')\n",
    "model.fit(X_train,y_train)\n",
    "\n"
   ]
  },
  {
   "cell_type": "code",
   "execution_count": 89,
   "metadata": {},
   "outputs": [
    {
     "data": {
      "text/plain": [
       "0.923373618714471"
      ]
     },
     "execution_count": 89,
     "metadata": {},
     "output_type": "execute_result"
    }
   ],
   "source": [
    "model.score(X_test,y_test)"
   ]
  },
  {
   "cell_type": "markdown",
   "metadata": {},
   "source": []
  },
  {
   "cell_type": "markdown",
   "metadata": {},
   "source": [
    "## Linear Regression Model"
   ]
  },
  {
   "cell_type": "markdown",
   "metadata": {},
   "source": [
    "#### Fit with original dataset"
   ]
  },
  {
   "cell_type": "code",
   "execution_count": 326,
   "metadata": {},
   "outputs": [],
   "source": [
    "from sklearn.linear_model import LinearRegression"
   ]
  },
  {
   "cell_type": "code",
   "execution_count": 327,
   "metadata": {},
   "outputs": [],
   "source": [
    "linear_model = LinearRegression().fit(X_train_orig,y_train_orig)"
   ]
  },
  {
   "cell_type": "code",
   "execution_count": 328,
   "metadata": {},
   "outputs": [
    {
     "data": {
      "text/plain": [
       "0.9276930245887912"
      ]
     },
     "execution_count": 328,
     "metadata": {},
     "output_type": "execute_result"
    }
   ],
   "source": [
    "linear_model.score(X_train_orig,y_train_orig)"
   ]
  },
  {
   "cell_type": "code",
   "execution_count": 329,
   "metadata": {},
   "outputs": [
    {
     "data": {
      "text/plain": [
       "0.6685767790733652"
      ]
     },
     "execution_count": 329,
     "metadata": {},
     "output_type": "execute_result"
    }
   ],
   "source": [
    "linear_model.score(X_test_orig,y_test_orig)"
   ]
  },
  {
   "cell_type": "code",
   "execution_count": 330,
   "metadata": {
    "scrolled": true
   },
   "outputs": [
    {
     "data": {
      "text/plain": [
       "2006347629.543853"
      ]
     },
     "execution_count": 330,
     "metadata": {},
     "output_type": "execute_result"
    }
   ],
   "source": [
    "compute_mse(linear_model,X_test_orig,y_test_orig)"
   ]
  },
  {
   "cell_type": "markdown",
   "metadata": {},
   "source": [
    "#### Fit with filtered data"
   ]
  },
  {
   "cell_type": "code",
   "execution_count": 331,
   "metadata": {},
   "outputs": [],
   "source": [
    "linear_model = LinearRegression().fit(X_train,y_train)"
   ]
  },
  {
   "cell_type": "code",
   "execution_count": 333,
   "metadata": {},
   "outputs": [
    {
     "data": {
      "text/plain": [
       "0.8860441640674173"
      ]
     },
     "execution_count": 333,
     "metadata": {},
     "output_type": "execute_result"
    }
   ],
   "source": [
    "linear_model.score(X_train,y_train)"
   ]
  },
  {
   "cell_type": "code",
   "execution_count": 334,
   "metadata": {},
   "outputs": [
    {
     "data": {
      "text/plain": [
       "0.8974463085288559"
      ]
     },
     "execution_count": 334,
     "metadata": {},
     "output_type": "execute_result"
    }
   ],
   "source": [
    "linear_model.score(X_test,y_test)"
   ]
  },
  {
   "cell_type": "code",
   "execution_count": 335,
   "metadata": {},
   "outputs": [
    {
     "data": {
      "text/plain": [
       "627028673.7877725"
      ]
     },
     "execution_count": 335,
     "metadata": {},
     "output_type": "execute_result"
    }
   ],
   "source": [
    "compute_mse(linear_model,X_test,y_test)"
   ]
  },
  {
   "cell_type": "code",
   "execution_count": null,
   "metadata": {},
   "outputs": [],
   "source": []
  }
 ],
 "metadata": {
  "kernelspec": {
   "display_name": "Python 3",
   "language": "python",
   "name": "python3"
  },
  "language_info": {
   "codemirror_mode": {
    "name": "ipython",
    "version": 3
   },
   "file_extension": ".py",
   "mimetype": "text/x-python",
   "name": "python",
   "nbconvert_exporter": "python",
   "pygments_lexer": "ipython3",
   "version": "3.7.9"
  }
 },
 "nbformat": 4,
 "nbformat_minor": 4
}
